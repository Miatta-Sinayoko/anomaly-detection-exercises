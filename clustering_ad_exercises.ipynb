{
 "cells": [
  {
   "cell_type": "markdown",
   "id": "f47e5945",
   "metadata": {},
   "source": [
    "# Exercises:\n",
    "\n",
    "file name: `clustering_anomaly_detection.py` or `clustering_anomaly_detection.ipynb`\n",
    "\n",
    "### Clustering - DBSCAN\n",
    "\n",
    "### 1. Use DBSCAN to detect anomalies in other products from the `customers` dataset. The database name is `grocery_db`.\n",
    "\n",
    "### 2. Use DBSCAN to detect anomalies in requests from the curriculum access logs in the `curriculum_logs` database.\n",
    "\n",
    "### 3. Use DBSCAN to detect anomalies in number of bedrooms and finished square feet of property for the filtered dataset you used in the <a href=\"https://ds.codeup.com/clustering/explore/#exercises\">clustering evaluation exercises</a> (single unit properties with a logerror)."
   ]
  },
  {
   "cell_type": "code",
   "execution_count": 1,
   "id": "b34c00aa",
   "metadata": {},
   "outputs": [],
   "source": [
    "import warnings\n",
    "warnings.filterwarnings(\"ignore\")\n",
    "\n",
    "import matplotlib.pyplot as plt\n",
    "import seaborn as sns\n",
    "import numpy as np\n",
    "import pandas as pd\n",
    "import os\n",
    "import itertools\n",
    "import env\n",
    "\n",
    "# DBSCAN import\n",
    "from sklearn.cluster import DBSCAN\n",
    "\n",
    "# Scaler import\n",
    "from sklearn.preprocessing import MinMaxScaler"
   ]
  },
  {
   "cell_type": "markdown",
   "id": "1a685961",
   "metadata": {},
   "source": [
    "## Grocery databse:"
   ]
  },
  {
   "cell_type": "code",
   "execution_count": 2,
   "id": "549813b9",
   "metadata": {},
   "outputs": [
    {
     "data": {
      "text/html": [
       "<div>\n",
       "<style scoped>\n",
       "    .dataframe tbody tr th:only-of-type {\n",
       "        vertical-align: middle;\n",
       "    }\n",
       "\n",
       "    .dataframe tbody tr th {\n",
       "        vertical-align: top;\n",
       "    }\n",
       "\n",
       "    .dataframe thead th {\n",
       "        text-align: right;\n",
       "    }\n",
       "</style>\n",
       "<table border=\"1\" class=\"dataframe\">\n",
       "  <thead>\n",
       "    <tr style=\"text-align: right;\">\n",
       "      <th></th>\n",
       "      <th>Channel</th>\n",
       "      <th>Region</th>\n",
       "      <th>Fresh</th>\n",
       "      <th>Milk</th>\n",
       "      <th>Grocery</th>\n",
       "      <th>Frozen</th>\n",
       "      <th>Detergents_Paper</th>\n",
       "      <th>Delicassen</th>\n",
       "    </tr>\n",
       "    <tr>\n",
       "      <th>customer_id</th>\n",
       "      <th></th>\n",
       "      <th></th>\n",
       "      <th></th>\n",
       "      <th></th>\n",
       "      <th></th>\n",
       "      <th></th>\n",
       "      <th></th>\n",
       "      <th></th>\n",
       "    </tr>\n",
       "  </thead>\n",
       "  <tbody>\n",
       "    <tr>\n",
       "      <th>0</th>\n",
       "      <td>2</td>\n",
       "      <td>3</td>\n",
       "      <td>12669</td>\n",
       "      <td>9656</td>\n",
       "      <td>7561</td>\n",
       "      <td>214</td>\n",
       "      <td>2674</td>\n",
       "      <td>1338</td>\n",
       "    </tr>\n",
       "    <tr>\n",
       "      <th>1</th>\n",
       "      <td>2</td>\n",
       "      <td>3</td>\n",
       "      <td>7057</td>\n",
       "      <td>9810</td>\n",
       "      <td>9568</td>\n",
       "      <td>1762</td>\n",
       "      <td>3293</td>\n",
       "      <td>1776</td>\n",
       "    </tr>\n",
       "    <tr>\n",
       "      <th>2</th>\n",
       "      <td>2</td>\n",
       "      <td>3</td>\n",
       "      <td>6353</td>\n",
       "      <td>8808</td>\n",
       "      <td>7684</td>\n",
       "      <td>2405</td>\n",
       "      <td>3516</td>\n",
       "      <td>7844</td>\n",
       "    </tr>\n",
       "    <tr>\n",
       "      <th>3</th>\n",
       "      <td>1</td>\n",
       "      <td>3</td>\n",
       "      <td>13265</td>\n",
       "      <td>1196</td>\n",
       "      <td>4221</td>\n",
       "      <td>6404</td>\n",
       "      <td>507</td>\n",
       "      <td>1788</td>\n",
       "    </tr>\n",
       "    <tr>\n",
       "      <th>4</th>\n",
       "      <td>2</td>\n",
       "      <td>3</td>\n",
       "      <td>22615</td>\n",
       "      <td>5410</td>\n",
       "      <td>7198</td>\n",
       "      <td>3915</td>\n",
       "      <td>1777</td>\n",
       "      <td>5185</td>\n",
       "    </tr>\n",
       "  </tbody>\n",
       "</table>\n",
       "</div>"
      ],
      "text/plain": [
       "             Channel  Region  Fresh  Milk  Grocery  Frozen  Detergents_Paper  \\\n",
       "customer_id                                                                    \n",
       "0                  2       3  12669  9656     7561     214              2674   \n",
       "1                  2       3   7057  9810     9568    1762              3293   \n",
       "2                  2       3   6353  8808     7684    2405              3516   \n",
       "3                  1       3  13265  1196     4221    6404               507   \n",
       "4                  2       3  22615  5410     7198    3915              1777   \n",
       "\n",
       "             Delicassen  \n",
       "customer_id              \n",
       "0                  1338  \n",
       "1                  1776  \n",
       "2                  7844  \n",
       "3                  1788  \n",
       "4                  5185  "
      ]
     },
     "execution_count": 2,
     "metadata": {},
     "output_type": "execute_result"
    }
   ],
   "source": [
    "# acquiring data from MySQL serves\n",
    "url = env.get_db_url(\"grocery_db\")\n",
    "\n",
    "sql = \"\"\"\n",
    "select *\n",
    "from grocery_customers\n",
    "\"\"\"\n",
    "\n",
    "df = pd.read_sql(sql, url, index_col=\"customer_id\")\n",
    "df.head()"
   ]
  },
  {
   "cell_type": "markdown",
   "id": "5bf935f3",
   "metadata": {},
   "source": [
    "## Step 1: Select variables you want to cluster"
   ]
  },
  {
   "cell_type": "code",
   "execution_count": 3,
   "id": "a9e17f81",
   "metadata": {},
   "outputs": [
    {
     "data": {
      "text/html": [
       "<div>\n",
       "<style scoped>\n",
       "    .dataframe tbody tr th:only-of-type {\n",
       "        vertical-align: middle;\n",
       "    }\n",
       "\n",
       "    .dataframe tbody tr th {\n",
       "        vertical-align: top;\n",
       "    }\n",
       "\n",
       "    .dataframe thead th {\n",
       "        text-align: right;\n",
       "    }\n",
       "</style>\n",
       "<table border=\"1\" class=\"dataframe\">\n",
       "  <thead>\n",
       "    <tr style=\"text-align: right;\">\n",
       "      <th></th>\n",
       "      <th>Detergents_Paper</th>\n",
       "      <th>Frozen</th>\n",
       "      <th>Delicassen</th>\n",
       "    </tr>\n",
       "    <tr>\n",
       "      <th>customer_id</th>\n",
       "      <th></th>\n",
       "      <th></th>\n",
       "      <th></th>\n",
       "    </tr>\n",
       "  </thead>\n",
       "  <tbody>\n",
       "    <tr>\n",
       "      <th>0</th>\n",
       "      <td>2674</td>\n",
       "      <td>214</td>\n",
       "      <td>1338</td>\n",
       "    </tr>\n",
       "    <tr>\n",
       "      <th>1</th>\n",
       "      <td>3293</td>\n",
       "      <td>1762</td>\n",
       "      <td>1776</td>\n",
       "    </tr>\n",
       "    <tr>\n",
       "      <th>2</th>\n",
       "      <td>3516</td>\n",
       "      <td>2405</td>\n",
       "      <td>7844</td>\n",
       "    </tr>\n",
       "    <tr>\n",
       "      <th>3</th>\n",
       "      <td>507</td>\n",
       "      <td>6404</td>\n",
       "      <td>1788</td>\n",
       "    </tr>\n",
       "    <tr>\n",
       "      <th>4</th>\n",
       "      <td>1777</td>\n",
       "      <td>3915</td>\n",
       "      <td>5185</td>\n",
       "    </tr>\n",
       "  </tbody>\n",
       "</table>\n",
       "</div>"
      ],
      "text/plain": [
       "             Detergents_Paper  Frozen  Delicassen\n",
       "customer_id                                      \n",
       "0                        2674     214        1338\n",
       "1                        3293    1762        1776\n",
       "2                        3516    2405        7844\n",
       "3                         507    6404        1788\n",
       "4                        1777    3915        5185"
      ]
     },
     "execution_count": 3,
     "metadata": {},
     "output_type": "execute_result"
    }
   ],
   "source": [
    "#creating new dataframe with features selected\n",
    "x=df[['Detergents_Paper','Frozen','Delicassen']]\n",
    "x.head()"
   ]
  },
  {
   "cell_type": "markdown",
   "id": "d6642566",
   "metadata": {},
   "source": [
    "## Step 2: Convert to array & dtype float"
   ]
  },
  {
   "cell_type": "code",
   "execution_count": 4,
   "id": "bc55634d",
   "metadata": {},
   "outputs": [],
   "source": [
    "#converting features into floats and arrays\n",
    "np_array = x.values.astype('float32',copy=False)"
   ]
  },
  {
   "cell_type": "markdown",
   "id": "2b03f7de",
   "metadata": {},
   "source": [
    "## Step 3: Scale to standard normal"
   ]
  },
  {
   "cell_type": "code",
   "execution_count": 5,
   "id": "482abac4",
   "metadata": {},
   "outputs": [
    {
     "data": {
      "text/plain": [
       "array([[0.0654272 , 0.0031063 , 0.02784731],\n",
       "       [0.08058985, 0.02854842, 0.03698373],\n",
       "       [0.08605233, 0.03911643, 0.16355862],\n",
       "       ...,\n",
       "       [0.36346266, 0.00677142, 0.03888194],\n",
       "       [0.00404174, 0.01664914, 0.04426366],\n",
       "       [0.01161082, 0.00065742, 0.00102211]], dtype=float32)"
      ]
     },
     "execution_count": 5,
     "metadata": {},
     "output_type": "execute_result"
    }
   ],
   "source": [
    "# MAKE the scaler\n",
    "mms=MinMaxScaler()\n",
    "# FIT/transform the scaler\n",
    "x_scaled=mms.fit_transform(np_array)\n",
    "\n",
    "x_scaled"
   ]
  },
  {
   "cell_type": "code",
   "execution_count": 6,
   "id": "e9a256ba",
   "metadata": {},
   "outputs": [],
   "source": [
    "# adding scaled data into the original datagrame\n",
    "scaled_columns = [\"Scaled_\"+ column for column in x.columns]"
   ]
  },
  {
   "cell_type": "code",
   "execution_count": 7,
   "id": "e7656aed",
   "metadata": {},
   "outputs": [],
   "source": [
    "# creating a copy of the original data frame\n",
    "original_df = df.copy()"
   ]
  },
  {
   "cell_type": "code",
   "execution_count": 8,
   "id": "7088cceb",
   "metadata": {},
   "outputs": [],
   "source": [
    "scaled_df = pd.DataFrame(x_scaled,columns=scaled_columns)"
   ]
  },
  {
   "cell_type": "code",
   "execution_count": 9,
   "id": "cf0c819a",
   "metadata": {},
   "outputs": [],
   "source": [
    "#merge scale data and dropping Key_0\n",
    "df = df.merge(scaled_df,on=df.index)\n",
    "df = df.drop(columns=['key_0'])"
   ]
  },
  {
   "cell_type": "markdown",
   "id": "58961a6c",
   "metadata": {},
   "source": [
    "## Step 4: Create DBSCAN and fit"
   ]
  },
  {
   "cell_type": "code",
   "execution_count": 10,
   "id": "a6822c83",
   "metadata": {},
   "outputs": [
    {
     "data": {
      "text/plain": [
       "DBSCAN(eps=0.1, min_samples=20)"
      ]
     },
     "execution_count": 10,
     "metadata": {},
     "output_type": "execute_result"
    }
   ],
   "source": [
    "# Make the object\n",
    "dbsc = DBSCAN(eps=.1,min_samples=20)\n",
    "\n",
    "# Fit the object\n",
    "dbsc.fit(x_scaled)"
   ]
  },
  {
   "cell_type": "markdown",
   "id": "de3399ed",
   "metadata": {},
   "source": [
    "## Step 5: Add labels back to original dataframe"
   ]
  },
  {
   "cell_type": "code",
   "execution_count": 11,
   "id": "a7c8bff0",
   "metadata": {},
   "outputs": [],
   "source": [
    "# Assign the cluster labels\n",
    "df['clusters_labels'] = dbsc.labels_"
   ]
  },
  {
   "cell_type": "code",
   "execution_count": 12,
   "id": "d8e6390a",
   "metadata": {},
   "outputs": [
    {
     "data": {
      "text/html": [
       "<div>\n",
       "<style scoped>\n",
       "    .dataframe tbody tr th:only-of-type {\n",
       "        vertical-align: middle;\n",
       "    }\n",
       "\n",
       "    .dataframe tbody tr th {\n",
       "        vertical-align: top;\n",
       "    }\n",
       "\n",
       "    .dataframe thead th {\n",
       "        text-align: right;\n",
       "    }\n",
       "</style>\n",
       "<table border=\"1\" class=\"dataframe\">\n",
       "  <thead>\n",
       "    <tr style=\"text-align: right;\">\n",
       "      <th></th>\n",
       "      <th>Channel</th>\n",
       "      <th>Region</th>\n",
       "      <th>Fresh</th>\n",
       "      <th>Milk</th>\n",
       "      <th>Grocery</th>\n",
       "      <th>Frozen</th>\n",
       "      <th>Detergents_Paper</th>\n",
       "      <th>Delicassen</th>\n",
       "      <th>Scaled_Detergents_Paper</th>\n",
       "      <th>Scaled_Frozen</th>\n",
       "      <th>Scaled_Delicassen</th>\n",
       "      <th>clusters_labels</th>\n",
       "    </tr>\n",
       "  </thead>\n",
       "  <tbody>\n",
       "    <tr>\n",
       "      <th>0</th>\n",
       "      <td>2</td>\n",
       "      <td>3</td>\n",
       "      <td>12669</td>\n",
       "      <td>9656</td>\n",
       "      <td>7561</td>\n",
       "      <td>214</td>\n",
       "      <td>2674</td>\n",
       "      <td>1338</td>\n",
       "      <td>0.065427</td>\n",
       "      <td>0.003106</td>\n",
       "      <td>0.027847</td>\n",
       "      <td>0</td>\n",
       "    </tr>\n",
       "    <tr>\n",
       "      <th>1</th>\n",
       "      <td>2</td>\n",
       "      <td>3</td>\n",
       "      <td>7057</td>\n",
       "      <td>9810</td>\n",
       "      <td>9568</td>\n",
       "      <td>1762</td>\n",
       "      <td>3293</td>\n",
       "      <td>1776</td>\n",
       "      <td>0.080590</td>\n",
       "      <td>0.028548</td>\n",
       "      <td>0.036984</td>\n",
       "      <td>0</td>\n",
       "    </tr>\n",
       "    <tr>\n",
       "      <th>2</th>\n",
       "      <td>2</td>\n",
       "      <td>3</td>\n",
       "      <td>6353</td>\n",
       "      <td>8808</td>\n",
       "      <td>7684</td>\n",
       "      <td>2405</td>\n",
       "      <td>3516</td>\n",
       "      <td>7844</td>\n",
       "      <td>0.086052</td>\n",
       "      <td>0.039116</td>\n",
       "      <td>0.163559</td>\n",
       "      <td>0</td>\n",
       "    </tr>\n",
       "    <tr>\n",
       "      <th>3</th>\n",
       "      <td>1</td>\n",
       "      <td>3</td>\n",
       "      <td>13265</td>\n",
       "      <td>1196</td>\n",
       "      <td>4221</td>\n",
       "      <td>6404</td>\n",
       "      <td>507</td>\n",
       "      <td>1788</td>\n",
       "      <td>0.012346</td>\n",
       "      <td>0.104842</td>\n",
       "      <td>0.037234</td>\n",
       "      <td>0</td>\n",
       "    </tr>\n",
       "    <tr>\n",
       "      <th>4</th>\n",
       "      <td>2</td>\n",
       "      <td>3</td>\n",
       "      <td>22615</td>\n",
       "      <td>5410</td>\n",
       "      <td>7198</td>\n",
       "      <td>3915</td>\n",
       "      <td>1777</td>\n",
       "      <td>5185</td>\n",
       "      <td>0.043455</td>\n",
       "      <td>0.063934</td>\n",
       "      <td>0.108093</td>\n",
       "      <td>0</td>\n",
       "    </tr>\n",
       "  </tbody>\n",
       "</table>\n",
       "</div>"
      ],
      "text/plain": [
       "   Channel  Region  Fresh  Milk  Grocery  Frozen  Detergents_Paper  \\\n",
       "0        2       3  12669  9656     7561     214              2674   \n",
       "1        2       3   7057  9810     9568    1762              3293   \n",
       "2        2       3   6353  8808     7684    2405              3516   \n",
       "3        1       3  13265  1196     4221    6404               507   \n",
       "4        2       3  22615  5410     7198    3915              1777   \n",
       "\n",
       "   Delicassen  Scaled_Detergents_Paper  Scaled_Frozen  Scaled_Delicassen  \\\n",
       "0        1338                 0.065427       0.003106           0.027847   \n",
       "1        1776                 0.080590       0.028548           0.036984   \n",
       "2        7844                 0.086052       0.039116           0.163559   \n",
       "3        1788                 0.012346       0.104842           0.037234   \n",
       "4        5185                 0.043455       0.063934           0.108093   \n",
       "\n",
       "   clusters_labels  \n",
       "0                0  \n",
       "1                0  \n",
       "2                0  \n",
       "3                0  \n",
       "4                0  "
      ]
     },
     "execution_count": 12,
     "metadata": {},
     "output_type": "execute_result"
    }
   ],
   "source": [
    "# new df viz\n",
    "df.head()"
   ]
  },
  {
   "cell_type": "markdown",
   "id": "06972343",
   "metadata": {},
   "source": [
    "## Step 7: Explore"
   ]
  },
  {
   "cell_type": "code",
   "execution_count": 13,
   "id": "ff0fbc72",
   "metadata": {},
   "outputs": [
    {
     "data": {
      "text/plain": [
       " 0    423\n",
       "-1     17\n",
       "Name: clusters_labels, dtype: int64"
      ]
     },
     "execution_count": 13,
     "metadata": {},
     "output_type": "execute_result"
    }
   ],
   "source": [
    "# value counts of clusters and anomalies\n",
    "df.clusters_labels.value_counts()"
   ]
  },
  {
   "cell_type": "code",
   "execution_count": 14,
   "id": "1a7fcc33",
   "metadata": {
    "scrolled": true
   },
   "outputs": [
    {
     "data": {
      "image/png": "[encoded data removed]",
      "text/plain": [
       "<Figure size 640x480 with 1 Axes>"
      ]
     },
     "metadata": {},
     "output_type": "display_data"
    },
    {
     "data": {
      "image/png": "[encoded data removed]",
      "text/plain": [
       "<Figure size 640x480 with 1 Axes>"
      ]
     },
     "metadata": {},
     "output_type": "display_data"
    },
    {
     "data": {
      "image/png": "[encoded data removed]",
      "text/plain": [
       "<Figure size 640x480 with 1 Axes>"
      ]
     },
     "metadata": {},
     "output_type": "display_data"
    }
   ],
   "source": [
    "#A for loop to visualize de different clsuters combination and anomalies utilizing only 2 features at a time\n",
    "for combination in itertools.combinations(x.columns,2):\n",
    "    sns.scatterplot(df[combination[0]],df[combination[1]],hue=df.clusters_labels)\n",
    "    plt.title(f\"{combination[0]} by {combination[1]} Clusters vs Outliers\")\n",
    "    plt.show()"
   ]
  },
  {
   "cell_type": "markdown",
   "id": "00ca1aed",
   "metadata": {},
   "source": [
    "# Curriculum Logs Database:"
   ]
  },
  {
   "cell_type": "code",
   "execution_count": 73,
   "id": "83dafde5",
   "metadata": {},
   "outputs": [],
   "source": [
    "#function to acquire data\n",
    "from sqlalchemy import text, create_engine\n",
    "def get_logs():\n",
    "   \n",
    "    url=env.get_db_url('logs')\n",
    "    conn=create_engine(url).connect()\n",
    "    query=text('select * from api_access')\n",
    "    df=pd.read_sql(query,conn)\n",
    "    return df"
   ]
  },
  {
   "cell_type": "code",
   "execution_count": 74,
   "id": "b7d696eb",
   "metadata": {},
   "outputs": [],
   "source": [
    "def parse_log_entry(entry):\n",
    "    parts = entry.split()\n",
    "    output = {}\n",
    "    output['ip'] = parts[0]\n",
    "    output['timestamp'] = parts[3][1:].replace(':', ' ', 1)\n",
    "    output['request_method'] = parts[5][1:]\n",
    "    output['request_path'] = parts[6]\n",
    "    output['http_version'] = parts[7][:-1]\n",
    "    output['status_code'] = parts[8]\n",
    "    output['size'] = int(parts[9])\n",
    "    output['user_agent'] = ' '.join(parts[11:]).strip('\"')\n",
    "    return pd.Series(output)"
   ]
  },
  {
   "cell_type": "code",
   "execution_count": 87,
   "id": "1a4df71b",
   "metadata": {},
   "outputs": [],
   "source": [
    "#acquiring data\n",
    "df=get_logs()"
   ]
  },
  {
   "cell_type": "code",
   "execution_count": 88,
   "id": "6a2db5fe",
   "metadata": {},
   "outputs": [],
   "source": [
    "df=df.entry.apply(parse_log_entry)"
   ]
  },
  {
   "cell_type": "code",
   "execution_count": 89,
   "id": "28623288",
   "metadata": {},
   "outputs": [
    {
     "data": {
      "text/html": [
       "<div>\n",
       "<style scoped>\n",
       "    .dataframe tbody tr th:only-of-type {\n",
       "        vertical-align: middle;\n",
       "    }\n",
       "\n",
       "    .dataframe tbody tr th {\n",
       "        vertical-align: top;\n",
       "    }\n",
       "\n",
       "    .dataframe thead th {\n",
       "        text-align: right;\n",
       "    }\n",
       "</style>\n",
       "<table border=\"1\" class=\"dataframe\">\n",
       "  <thead>\n",
       "    <tr style=\"text-align: right;\">\n",
       "      <th></th>\n",
       "      <th>ip</th>\n",
       "      <th>timestamp</th>\n",
       "      <th>request_method</th>\n",
       "      <th>request_path</th>\n",
       "      <th>http_version</th>\n",
       "      <th>status_code</th>\n",
       "      <th>size</th>\n",
       "      <th>user_agent</th>\n",
       "    </tr>\n",
       "  </thead>\n",
       "  <tbody>\n",
       "    <tr>\n",
       "      <th>0</th>\n",
       "      <td>97.105.19.58</td>\n",
       "      <td>16/Apr/2019 19:34:42</td>\n",
       "      <td>GET</td>\n",
       "      <td>/api/v1/sales?page=81</td>\n",
       "      <td>HTTP/1.1</td>\n",
       "      <td>200</td>\n",
       "      <td>512495</td>\n",
       "      <td>python-requests/2.21.0</td>\n",
       "    </tr>\n",
       "    <tr>\n",
       "      <th>1</th>\n",
       "      <td>97.105.19.58</td>\n",
       "      <td>16/Apr/2019 19:34:42</td>\n",
       "      <td>GET</td>\n",
       "      <td>/api/v1/items</td>\n",
       "      <td>HTTP/1.1</td>\n",
       "      <td>200</td>\n",
       "      <td>3561</td>\n",
       "      <td>python-requests/2.21.0</td>\n",
       "    </tr>\n",
       "    <tr>\n",
       "      <th>2</th>\n",
       "      <td>97.105.19.58</td>\n",
       "      <td>16/Apr/2019 19:34:44</td>\n",
       "      <td>GET</td>\n",
       "      <td>/api/v1/sales?page=82</td>\n",
       "      <td>HTTP/1.1</td>\n",
       "      <td>200</td>\n",
       "      <td>510103</td>\n",
       "      <td>python-requests/2.21.0</td>\n",
       "    </tr>\n",
       "    <tr>\n",
       "      <th>3</th>\n",
       "      <td>97.105.19.58</td>\n",
       "      <td>16/Apr/2019 19:34:46</td>\n",
       "      <td>GET</td>\n",
       "      <td>/api/v1/sales?page=83</td>\n",
       "      <td>HTTP/1.1</td>\n",
       "      <td>200</td>\n",
       "      <td>510003</td>\n",
       "      <td>python-requests/2.21.0</td>\n",
       "    </tr>\n",
       "    <tr>\n",
       "      <th>4</th>\n",
       "      <td>97.105.19.58</td>\n",
       "      <td>16/Apr/2019 19:34:48</td>\n",
       "      <td>GET</td>\n",
       "      <td>/api/v1/sales?page=84</td>\n",
       "      <td>HTTP/1.1</td>\n",
       "      <td>200</td>\n",
       "      <td>511963</td>\n",
       "      <td>python-requests/2.21.0</td>\n",
       "    </tr>\n",
       "  </tbody>\n",
       "</table>\n",
       "</div>"
      ],
      "text/plain": [
       "             ip             timestamp request_method           request_path  \\\n",
       "0  97.105.19.58  16/Apr/2019 19:34:42            GET  /api/v1/sales?page=81   \n",
       "1  97.105.19.58  16/Apr/2019 19:34:42            GET          /api/v1/items   \n",
       "2  97.105.19.58  16/Apr/2019 19:34:44            GET  /api/v1/sales?page=82   \n",
       "3  97.105.19.58  16/Apr/2019 19:34:46            GET  /api/v1/sales?page=83   \n",
       "4  97.105.19.58  16/Apr/2019 19:34:48            GET  /api/v1/sales?page=84   \n",
       "\n",
       "  http_version status_code    size              user_agent  \n",
       "0     HTTP/1.1         200  512495  python-requests/2.21.0  \n",
       "1     HTTP/1.1         200    3561  python-requests/2.21.0  \n",
       "2     HTTP/1.1         200  510103  python-requests/2.21.0  \n",
       "3     HTTP/1.1         200  510003  python-requests/2.21.0  \n",
       "4     HTTP/1.1         200  511963  python-requests/2.21.0  "
      ]
     },
     "execution_count": 89,
     "metadata": {},
     "output_type": "execute_result"
    }
   ],
   "source": [
    "df.head()"
   ]
  },
  {
   "cell_type": "code",
   "execution_count": 90,
   "id": "ab1b35e8",
   "metadata": {
    "scrolled": false
   },
   "outputs": [
    {
     "name": "stdout",
     "output_type": "stream",
     "text": [
      "<class 'pandas.core.frame.DataFrame'>\n",
      "RangeIndex: 13974 entries, 0 to 13973\n",
      "Data columns (total 8 columns):\n",
      " #   Column          Non-Null Count  Dtype \n",
      "---  ------          --------------  ----- \n",
      " 0   ip              13974 non-null  object\n",
      " 1   timestamp       13974 non-null  object\n",
      " 2   request_method  13974 non-null  object\n",
      " 3   request_path    13974 non-null  object\n",
      " 4   http_version    13974 non-null  object\n",
      " 5   status_code     13974 non-null  object\n",
      " 6   size            13974 non-null  int64 \n",
      " 7   user_agent      13974 non-null  object\n",
      "dtypes: int64(1), object(7)\n",
      "memory usage: 873.5+ KB\n"
     ]
    }
   ],
   "source": [
    "df.info()"
   ]
  },
  {
   "cell_type": "markdown",
   "id": "2bf4481a",
   "metadata": {},
   "source": [
    "## Step 1: Select variables you want to cluster"
   ]
  },
  {
   "cell_type": "code",
   "execution_count": 91,
   "id": "c8ca48cb",
   "metadata": {
    "scrolled": false
   },
   "outputs": [
    {
     "data": {
      "text/html": [
       "<div>\n",
       "<style scoped>\n",
       "    .dataframe tbody tr th:only-of-type {\n",
       "        vertical-align: middle;\n",
       "    }\n",
       "\n",
       "    .dataframe tbody tr th {\n",
       "        vertical-align: top;\n",
       "    }\n",
       "\n",
       "    .dataframe thead th {\n",
       "        text-align: right;\n",
       "    }\n",
       "</style>\n",
       "<table border=\"1\" class=\"dataframe\">\n",
       "  <thead>\n",
       "    <tr style=\"text-align: right;\">\n",
       "      <th></th>\n",
       "      <th>status_code</th>\n",
       "      <th>size</th>\n",
       "    </tr>\n",
       "  </thead>\n",
       "  <tbody>\n",
       "    <tr>\n",
       "      <th>0</th>\n",
       "      <td>200</td>\n",
       "      <td>512495</td>\n",
       "    </tr>\n",
       "    <tr>\n",
       "      <th>1</th>\n",
       "      <td>200</td>\n",
       "      <td>3561</td>\n",
       "    </tr>\n",
       "    <tr>\n",
       "      <th>2</th>\n",
       "      <td>200</td>\n",
       "      <td>510103</td>\n",
       "    </tr>\n",
       "    <tr>\n",
       "      <th>3</th>\n",
       "      <td>200</td>\n",
       "      <td>510003</td>\n",
       "    </tr>\n",
       "    <tr>\n",
       "      <th>4</th>\n",
       "      <td>200</td>\n",
       "      <td>511963</td>\n",
       "    </tr>\n",
       "  </tbody>\n",
       "</table>\n",
       "</div>"
      ],
      "text/plain": [
       "  status_code    size\n",
       "0         200  512495\n",
       "1         200    3561\n",
       "2         200  510103\n",
       "3         200  510003\n",
       "4         200  511963"
      ]
     },
     "execution_count": 91,
     "metadata": {},
     "output_type": "execute_result"
    }
   ],
   "source": [
    "x=df[['status_code','size']]\n",
    "x.head()"
   ]
  },
  {
   "cell_type": "code",
   "execution_count": 105,
   "id": "c683cdef",
   "metadata": {},
   "outputs": [
    {
     "data": {
      "text/plain": [
       "0"
      ]
     },
     "execution_count": 105,
     "metadata": {},
     "output_type": "execute_result"
    }
   ],
   "source": [
    "df.index.isnull().sum()"
   ]
  },
  {
   "cell_type": "code",
   "execution_count": 99,
   "id": "0c67ebbc",
   "metadata": {},
   "outputs": [],
   "source": [
    "df=df.dropna()"
   ]
  },
  {
   "cell_type": "markdown",
   "id": "4dd5e3e6",
   "metadata": {},
   "source": [
    "## Step 2: Convert to array & dtype float"
   ]
  },
  {
   "cell_type": "code",
   "execution_count": 100,
   "id": "d1ed5445",
   "metadata": {},
   "outputs": [],
   "source": [
    "#converting features into floats and arrays\n",
    "np_array = x.values.astype('float32',copy=False)"
   ]
  },
  {
   "cell_type": "markdown",
   "id": "bbf59ef1",
   "metadata": {},
   "source": [
    "## Step 3: Scale to standard normal"
   ]
  },
  {
   "cell_type": "code",
   "execution_count": 101,
   "id": "bcc4dd07",
   "metadata": {},
   "outputs": [
    {
     "data": {
      "text/plain": [
       "array([[0.        , 0.9975844 ],\n",
       "       [0.        , 0.00693158],\n",
       "       [0.        , 0.9929283 ],\n",
       "       ...,\n",
       "       [0.        , 0.99619454],\n",
       "       [0.        , 0.9929925 ],\n",
       "       [0.        , 0.99305093]], dtype=float32)"
      ]
     },
     "execution_count": 101,
     "metadata": {},
     "output_type": "execute_result"
    }
   ],
   "source": [
    "# MAKE the scaler\n",
    "mms=MinMaxScaler()\n",
    "# FIT/transform the scaler\n",
    "x_scaled=mms.fit_transform(np_array)\n",
    "\n",
    "x_scaled"
   ]
  },
  {
   "cell_type": "code",
   "execution_count": 102,
   "id": "df73a6c2",
   "metadata": {},
   "outputs": [],
   "source": [
    "# adding scaled data into the original datagrame\n",
    "scaled_columns = [\"Scaled_\"+ column for column in x.columns]"
   ]
  },
  {
   "cell_type": "code",
   "execution_count": 103,
   "id": "e9589892",
   "metadata": {},
   "outputs": [],
   "source": [
    "# creating a copy of the original data frame\n",
    "original_df = df.copy()"
   ]
  },
  {
   "cell_type": "code",
   "execution_count": 96,
   "id": "506e1dd1",
   "metadata": {},
   "outputs": [],
   "source": [
    "scaled_df = pd.DataFrame(x_scaled,columns=scaled_columns)"
   ]
  },
  {
   "cell_type": "code",
   "execution_count": 97,
   "id": "eddb88d3",
   "metadata": {},
   "outputs": [
    {
     "ename": "ValueError",
     "evalue": "Unable to fill values because RangeIndex cannot contain NA",
     "output_type": "error",
     "traceback": [
      "\u001b[0;31m---------------------------------------------------------------------------\u001b[0m",
      "\u001b[0;31mValueError\u001b[0m                                Traceback (most recent call last)",
      "\u001b[0;32m/var/folders/wd/5_z1tvw94pv9x2ld8p_0dl2r0000gn/T/ipykernel_5466/202363771.py\u001b[0m in \u001b[0;36m<module>\u001b[0;34m\u001b[0m\n\u001b[1;32m      1\u001b[0m \u001b[0;31m#merge scale data and dropping Key_0\u001b[0m\u001b[0;34m\u001b[0m\u001b[0;34m\u001b[0m\u001b[0m\n\u001b[0;32m----> 2\u001b[0;31m \u001b[0mdf\u001b[0m \u001b[0;34m=\u001b[0m \u001b[0mdf\u001b[0m\u001b[0;34m.\u001b[0m\u001b[0mmerge\u001b[0m\u001b[0;34m(\u001b[0m\u001b[0mscaled_df\u001b[0m\u001b[0;34m,\u001b[0m\u001b[0mon\u001b[0m\u001b[0;34m=\u001b[0m\u001b[0mdf\u001b[0m\u001b[0;34m.\u001b[0m\u001b[0mindex\u001b[0m\u001b[0;34m)\u001b[0m\u001b[0;34m\u001b[0m\u001b[0;34m\u001b[0m\u001b[0m\n\u001b[0m\u001b[1;32m      3\u001b[0m \u001b[0mdf\u001b[0m \u001b[0;34m=\u001b[0m \u001b[0mdf\u001b[0m\u001b[0;34m.\u001b[0m\u001b[0mdrop\u001b[0m\u001b[0;34m(\u001b[0m\u001b[0mcolumns\u001b[0m\u001b[0;34m=\u001b[0m\u001b[0;34m[\u001b[0m\u001b[0;34m'key_0'\u001b[0m\u001b[0;34m]\u001b[0m\u001b[0;34m)\u001b[0m\u001b[0;34m\u001b[0m\u001b[0;34m\u001b[0m\u001b[0m\n",
      "\u001b[0;32m/usr/local/anaconda3/lib/python3.9/site-packages/pandas/core/frame.py\u001b[0m in \u001b[0;36mmerge\u001b[0;34m(self, right, how, on, left_on, right_on, left_index, right_index, sort, suffixes, copy, indicator, validate)\u001b[0m\n\u001b[1;32m   9352\u001b[0m         \u001b[0;32mfrom\u001b[0m \u001b[0mpandas\u001b[0m\u001b[0;34m.\u001b[0m\u001b[0mcore\u001b[0m\u001b[0;34m.\u001b[0m\u001b[0mreshape\u001b[0m\u001b[0;34m.\u001b[0m\u001b[0mmerge\u001b[0m \u001b[0;32mimport\u001b[0m \u001b[0mmerge\u001b[0m\u001b[0;34m\u001b[0m\u001b[0;34m\u001b[0m\u001b[0m\n\u001b[1;32m   9353\u001b[0m \u001b[0;34m\u001b[0m\u001b[0m\n\u001b[0;32m-> 9354\u001b[0;31m         return merge(\n\u001b[0m\u001b[1;32m   9355\u001b[0m             \u001b[0mself\u001b[0m\u001b[0;34m,\u001b[0m\u001b[0;34m\u001b[0m\u001b[0;34m\u001b[0m\u001b[0m\n\u001b[1;32m   9356\u001b[0m             \u001b[0mright\u001b[0m\u001b[0;34m,\u001b[0m\u001b[0;34m\u001b[0m\u001b[0;34m\u001b[0m\u001b[0m\n",
      "\u001b[0;32m/usr/local/anaconda3/lib/python3.9/site-packages/pandas/core/reshape/merge.py\u001b[0m in \u001b[0;36mmerge\u001b[0;34m(left, right, how, on, left_on, right_on, left_index, right_index, sort, suffixes, copy, indicator, validate)\u001b[0m\n\u001b[1;32m    120\u001b[0m         \u001b[0mvalidate\u001b[0m\u001b[0;34m=\u001b[0m\u001b[0mvalidate\u001b[0m\u001b[0;34m,\u001b[0m\u001b[0;34m\u001b[0m\u001b[0;34m\u001b[0m\u001b[0m\n\u001b[1;32m    121\u001b[0m     )\n\u001b[0;32m--> 122\u001b[0;31m     \u001b[0;32mreturn\u001b[0m \u001b[0mop\u001b[0m\u001b[0;34m.\u001b[0m\u001b[0mget_result\u001b[0m\u001b[0;34m(\u001b[0m\u001b[0;34m)\u001b[0m\u001b[0;34m\u001b[0m\u001b[0;34m\u001b[0m\u001b[0m\n\u001b[0m\u001b[1;32m    123\u001b[0m \u001b[0;34m\u001b[0m\u001b[0m\n\u001b[1;32m    124\u001b[0m \u001b[0;34m\u001b[0m\u001b[0m\n",
      "\u001b[0;32m/usr/local/anaconda3/lib/python3.9/site-packages/pandas/core/reshape/merge.py\u001b[0m in \u001b[0;36mget_result\u001b[0;34m(self)\u001b[0m\n\u001b[1;32m    736\u001b[0m             \u001b[0mresult\u001b[0m \u001b[0;34m=\u001b[0m \u001b[0mself\u001b[0m\u001b[0;34m.\u001b[0m\u001b[0m_indicator_post_merge\u001b[0m\u001b[0;34m(\u001b[0m\u001b[0mresult\u001b[0m\u001b[0;34m)\u001b[0m\u001b[0;34m\u001b[0m\u001b[0;34m\u001b[0m\u001b[0m\n\u001b[1;32m    737\u001b[0m \u001b[0;34m\u001b[0m\u001b[0m\n\u001b[0;32m--> 738\u001b[0;31m         \u001b[0mself\u001b[0m\u001b[0;34m.\u001b[0m\u001b[0m_maybe_add_join_keys\u001b[0m\u001b[0;34m(\u001b[0m\u001b[0mresult\u001b[0m\u001b[0;34m,\u001b[0m \u001b[0mleft_indexer\u001b[0m\u001b[0;34m,\u001b[0m \u001b[0mright_indexer\u001b[0m\u001b[0;34m)\u001b[0m\u001b[0;34m\u001b[0m\u001b[0;34m\u001b[0m\u001b[0m\n\u001b[0m\u001b[1;32m    739\u001b[0m \u001b[0;34m\u001b[0m\u001b[0m\n\u001b[1;32m    740\u001b[0m         \u001b[0mself\u001b[0m\u001b[0;34m.\u001b[0m\u001b[0m_maybe_restore_index_levels\u001b[0m\u001b[0;34m(\u001b[0m\u001b[0mresult\u001b[0m\u001b[0;34m)\u001b[0m\u001b[0;34m\u001b[0m\u001b[0;34m\u001b[0m\u001b[0m\n",
      "\u001b[0;32m/usr/local/anaconda3/lib/python3.9/site-packages/pandas/core/reshape/merge.py\u001b[0m in \u001b[0;36m_maybe_add_join_keys\u001b[0;34m(self, result, left_indexer, right_indexer)\u001b[0m\n\u001b[1;32m    888\u001b[0m                     \u001b[0mtake_left\u001b[0m \u001b[0;34m=\u001b[0m \u001b[0mextract_array\u001b[0m\u001b[0;34m(\u001b[0m\u001b[0mtake_left\u001b[0m\u001b[0;34m,\u001b[0m \u001b[0mextract_numpy\u001b[0m\u001b[0;34m=\u001b[0m\u001b[0;32mTrue\u001b[0m\u001b[0;34m)\u001b[0m\u001b[0;34m\u001b[0m\u001b[0;34m\u001b[0m\u001b[0m\n\u001b[1;32m    889\u001b[0m                     \u001b[0mlfill\u001b[0m \u001b[0;34m=\u001b[0m \u001b[0mna_value_for_dtype\u001b[0m\u001b[0;34m(\u001b[0m\u001b[0mtake_left\u001b[0m\u001b[0;34m.\u001b[0m\u001b[0mdtype\u001b[0m\u001b[0;34m)\u001b[0m\u001b[0;34m\u001b[0m\u001b[0;34m\u001b[0m\u001b[0m\n\u001b[0;32m--> 890\u001b[0;31m                     \u001b[0mlvals\u001b[0m \u001b[0;34m=\u001b[0m \u001b[0malgos\u001b[0m\u001b[0;34m.\u001b[0m\u001b[0mtake_nd\u001b[0m\u001b[0;34m(\u001b[0m\u001b[0mtake_left\u001b[0m\u001b[0;34m,\u001b[0m \u001b[0mleft_indexer\u001b[0m\u001b[0;34m,\u001b[0m \u001b[0mfill_value\u001b[0m\u001b[0;34m=\u001b[0m\u001b[0mlfill\u001b[0m\u001b[0;34m)\u001b[0m\u001b[0;34m\u001b[0m\u001b[0;34m\u001b[0m\u001b[0m\n\u001b[0m\u001b[1;32m    891\u001b[0m \u001b[0;34m\u001b[0m\u001b[0m\n\u001b[1;32m    892\u001b[0m                 \u001b[0;32mif\u001b[0m \u001b[0mtake_right\u001b[0m \u001b[0;32mis\u001b[0m \u001b[0;32mNone\u001b[0m\u001b[0;34m:\u001b[0m\u001b[0;34m\u001b[0m\u001b[0;34m\u001b[0m\u001b[0m\n",
      "\u001b[0;32m/usr/local/anaconda3/lib/python3.9/site-packages/pandas/core/array_algos/take.py\u001b[0m in \u001b[0;36mtake_nd\u001b[0;34m(arr, indexer, axis, fill_value, allow_fill)\u001b[0m\n\u001b[1;32m    108\u001b[0m             \u001b[0;31m# i.e. DatetimeArray, TimedeltaArray\u001b[0m\u001b[0;34m\u001b[0m\u001b[0;34m\u001b[0m\u001b[0m\n\u001b[1;32m    109\u001b[0m             \u001b[0marr\u001b[0m \u001b[0;34m=\u001b[0m \u001b[0mcast\u001b[0m\u001b[0;34m(\u001b[0m\u001b[0;34m\"NDArrayBackedExtensionArray\"\u001b[0m\u001b[0;34m,\u001b[0m \u001b[0marr\u001b[0m\u001b[0;34m)\u001b[0m\u001b[0;34m\u001b[0m\u001b[0;34m\u001b[0m\u001b[0m\n\u001b[0;32m--> 110\u001b[0;31m             return arr.take(\n\u001b[0m\u001b[1;32m    111\u001b[0m                 \u001b[0mindexer\u001b[0m\u001b[0;34m,\u001b[0m \u001b[0mfill_value\u001b[0m\u001b[0;34m=\u001b[0m\u001b[0mfill_value\u001b[0m\u001b[0;34m,\u001b[0m \u001b[0mallow_fill\u001b[0m\u001b[0;34m=\u001b[0m\u001b[0mallow_fill\u001b[0m\u001b[0;34m,\u001b[0m \u001b[0maxis\u001b[0m\u001b[0;34m=\u001b[0m\u001b[0maxis\u001b[0m\u001b[0;34m\u001b[0m\u001b[0;34m\u001b[0m\u001b[0m\n\u001b[1;32m    112\u001b[0m             )\n",
      "\u001b[0;32m/usr/local/anaconda3/lib/python3.9/site-packages/pandas/core/indexes/base.py\u001b[0m in \u001b[0;36mtake\u001b[0;34m(self, indices, axis, allow_fill, fill_value, **kwargs)\u001b[0m\n\u001b[1;32m   1113\u001b[0m             \u001b[0;32mraise\u001b[0m \u001b[0mTypeError\u001b[0m\u001b[0;34m(\u001b[0m\u001b[0;34m\"Expected indices to be array-like\"\u001b[0m\u001b[0;34m)\u001b[0m\u001b[0;34m\u001b[0m\u001b[0;34m\u001b[0m\u001b[0m\n\u001b[1;32m   1114\u001b[0m         \u001b[0mindices\u001b[0m \u001b[0;34m=\u001b[0m \u001b[0mensure_platform_int\u001b[0m\u001b[0;34m(\u001b[0m\u001b[0mindices\u001b[0m\u001b[0;34m)\u001b[0m\u001b[0;34m\u001b[0m\u001b[0;34m\u001b[0m\u001b[0m\n\u001b[0;32m-> 1115\u001b[0;31m         \u001b[0mallow_fill\u001b[0m \u001b[0;34m=\u001b[0m \u001b[0mself\u001b[0m\u001b[0;34m.\u001b[0m\u001b[0m_maybe_disallow_fill\u001b[0m\u001b[0;34m(\u001b[0m\u001b[0mallow_fill\u001b[0m\u001b[0;34m,\u001b[0m \u001b[0mfill_value\u001b[0m\u001b[0;34m,\u001b[0m \u001b[0mindices\u001b[0m\u001b[0;34m)\u001b[0m\u001b[0;34m\u001b[0m\u001b[0;34m\u001b[0m\u001b[0m\n\u001b[0m\u001b[1;32m   1116\u001b[0m \u001b[0;34m\u001b[0m\u001b[0m\n\u001b[1;32m   1117\u001b[0m         \u001b[0;31m# Note: we discard fill_value and use self._na_value, only relevant\u001b[0m\u001b[0;34m\u001b[0m\u001b[0;34m\u001b[0m\u001b[0m\n",
      "\u001b[0;32m/usr/local/anaconda3/lib/python3.9/site-packages/pandas/core/indexes/base.py\u001b[0m in \u001b[0;36m_maybe_disallow_fill\u001b[0;34m(self, allow_fill, fill_value, indices)\u001b[0m\n\u001b[1;32m   1146\u001b[0m             \u001b[0;32melse\u001b[0m\u001b[0;34m:\u001b[0m\u001b[0;34m\u001b[0m\u001b[0;34m\u001b[0m\u001b[0m\n\u001b[1;32m   1147\u001b[0m                 \u001b[0mcls_name\u001b[0m \u001b[0;34m=\u001b[0m \u001b[0mtype\u001b[0m\u001b[0;34m(\u001b[0m\u001b[0mself\u001b[0m\u001b[0;34m)\u001b[0m\u001b[0;34m.\u001b[0m\u001b[0m__name__\u001b[0m\u001b[0;34m\u001b[0m\u001b[0;34m\u001b[0m\u001b[0m\n\u001b[0;32m-> 1148\u001b[0;31m                 raise ValueError(\n\u001b[0m\u001b[1;32m   1149\u001b[0m                     \u001b[0;34mf\"Unable to fill values because {cls_name} cannot contain NA\"\u001b[0m\u001b[0;34m\u001b[0m\u001b[0;34m\u001b[0m\u001b[0m\n\u001b[1;32m   1150\u001b[0m                 )\n",
      "\u001b[0;31mValueError\u001b[0m: Unable to fill values because RangeIndex cannot contain NA"
     ]
    }
   ],
   "source": [
    "#merge scale data and dropping Key_0\n",
    "df = df.merge(scaled_df,on=df.index)\n",
    "df = df.drop(columns=['key_0'])"
   ]
  },
  {
   "cell_type": "markdown",
   "id": "cc971494",
   "metadata": {},
   "source": [
    "df.head()"
   ]
  },
  {
   "cell_type": "markdown",
   "id": "413c8759",
   "metadata": {},
   "source": [
    "## Step 4: Create DBSCAN and fit"
   ]
  },
  {
   "cell_type": "markdown",
   "id": "850497ba",
   "metadata": {},
   "source": [
    "# Make the object\n",
    "dbsc = DBSCAN(eps=1,min_samples=10)\n",
    "\n",
    "# Fit the object\n",
    "dbsc.fit(x_scaled)"
   ]
  },
  {
   "cell_type": "markdown",
   "id": "a1202a2e",
   "metadata": {},
   "source": [
    "## Step 5: Add labels back to original dataframe"
   ]
  },
  {
   "cell_type": "markdown",
   "id": "e7ac7572",
   "metadata": {},
   "source": [
    "# Assign the cluster labels\n",
    "df['clusters_labels'] = dbsc.labels_"
   ]
  },
  {
   "cell_type": "markdown",
   "id": "a8bbee39",
   "metadata": {},
   "source": [
    "#A for loop to visualize de different clsuters combination and anomalies utilizing only 2 features at a time\n",
    "for combination in itertools.combinations(x.columns,2):\n",
    "    sns.scatterplot(df[combination[0]],df[combination[1]],hue=df.clusters_labels)\n",
    "    plt.title(f\"{combination[0]} by {combination[1]} Clusters vs Outliers\")\n",
    "    plt.show()"
   ]
  },
  {
   "cell_type": "markdown",
   "id": "401ceb4b",
   "metadata": {},
   "source": [
    "# Zillow database:\n",
    "- Detect anomalies in number of bedrooms and finished square feet of property "
   ]
  },
  {
   "cell_type": "code",
   "execution_count": 28,
   "id": "3e6ebeb1",
   "metadata": {},
   "outputs": [],
   "source": [
    "url=env.get_db_url('zillow')\n",
    "    \n",
    "query= \"\"\"SELECT *\n",
    "            from properties_2017 prop\n",
    "        JOIN ( SELECT parcelid, MAX(transactiondate) AS max_transactiondate\n",
    "                FROM predictions_2017\n",
    "                GROUP BY parcelid) trans using (parcelid)\n",
    "       \n",
    "        JOIN predictions_2017 pred ON trans.parcelid = pred.parcelid\n",
    "                          AND trans.max_transactiondate = pred.transactiondate\n",
    "        \n",
    "        LEFT JOIN airconditioningtype air USING(airconditioningtypeid)\n",
    "        LEFT JOIN architecturalstyletype arch USING(architecturalstyletypeid)\n",
    "        LEFT JOIN buildingclasstype build USING(buildingclasstypeid)\n",
    "        LEFT JOIN heatingorsystemtype heat USING(heatingorsystemtypeid)\n",
    "        LEFT JOIN propertylandusetype land USING(propertylandusetypeid)\n",
    "        LEFT JOIN storytype story USING(storytypeid)\n",
    "        LEFT JOIN typeconstructiontype type USING(typeconstructiontypeid)\n",
    "    \n",
    "        WHERE land.propertylandusetypeid in (261,279)\n",
    "            AND transactiondate <= '2017-12-31'\n",
    "            AND prop.longitude IS NOT NULL\n",
    "            AND prop.latitude IS NOT NULL\n",
    "       \"\"\"\n",
    "directory='/Users/chellyannmoreno/codeup-data-science/anomaly-detection-exercises/'\n",
    "filename=('zillow.csv')\n",
    "def get_data():\n",
    "    if os.path.exists(directory+filename):\n",
    "        df=pd.read_csv(filename)\n",
    "        df = df[df['transactiondate'].str.startswith(\"2017\", na=False)]\n",
    "        return df\n",
    "    else:\n",
    "        df=pd.read_sql(query,url)\n",
    "        df.to_csv(filename,index=False)\n",
    "        # cache data locally\n",
    "        df.to_csv(filename, index=False)\n",
    "        df = df[df['transactiondate'].str.startswith(\"2017\", na=False)]\n",
    "        return df\n",
    "    "
   ]
  },
  {
   "cell_type": "code",
   "execution_count": 29,
   "id": "659f83c3",
   "metadata": {},
   "outputs": [],
   "source": [
    "df=get_data()"
   ]
  },
  {
   "cell_type": "code",
   "execution_count": 30,
   "id": "8bf691d0",
   "metadata": {},
   "outputs": [
    {
     "data": {
      "text/html": [
       "<div>\n",
       "<style scoped>\n",
       "    .dataframe tbody tr th:only-of-type {\n",
       "        vertical-align: middle;\n",
       "    }\n",
       "\n",
       "    .dataframe tbody tr th {\n",
       "        vertical-align: top;\n",
       "    }\n",
       "\n",
       "    .dataframe thead th {\n",
       "        text-align: right;\n",
       "    }\n",
       "</style>\n",
       "<table border=\"1\" class=\"dataframe\">\n",
       "  <thead>\n",
       "    <tr style=\"text-align: right;\">\n",
       "      <th></th>\n",
       "      <th>typeconstructiontypeid</th>\n",
       "      <th>storytypeid</th>\n",
       "      <th>propertylandusetypeid</th>\n",
       "      <th>heatingorsystemtypeid</th>\n",
       "      <th>buildingclasstypeid</th>\n",
       "      <th>architecturalstyletypeid</th>\n",
       "      <th>airconditioningtypeid</th>\n",
       "      <th>parcelid</th>\n",
       "      <th>id</th>\n",
       "      <th>basementsqft</th>\n",
       "      <th>...</th>\n",
       "      <th>parcelid.1</th>\n",
       "      <th>logerror</th>\n",
       "      <th>transactiondate</th>\n",
       "      <th>airconditioningdesc</th>\n",
       "      <th>architecturalstyledesc</th>\n",
       "      <th>buildingclassdesc</th>\n",
       "      <th>heatingorsystemdesc</th>\n",
       "      <th>propertylandusedesc</th>\n",
       "      <th>storydesc</th>\n",
       "      <th>typeconstructiondesc</th>\n",
       "    </tr>\n",
       "  </thead>\n",
       "  <tbody>\n",
       "    <tr>\n",
       "      <th>0</th>\n",
       "      <td>NaN</td>\n",
       "      <td>NaN</td>\n",
       "      <td>261.0</td>\n",
       "      <td>NaN</td>\n",
       "      <td>NaN</td>\n",
       "      <td>NaN</td>\n",
       "      <td>NaN</td>\n",
       "      <td>14297519</td>\n",
       "      <td>1727539</td>\n",
       "      <td>NaN</td>\n",
       "      <td>...</td>\n",
       "      <td>14297519</td>\n",
       "      <td>0.025595</td>\n",
       "      <td>2017-01-01</td>\n",
       "      <td>NaN</td>\n",
       "      <td>NaN</td>\n",
       "      <td>NaN</td>\n",
       "      <td>NaN</td>\n",
       "      <td>Single Family Residential</td>\n",
       "      <td>NaN</td>\n",
       "      <td>NaN</td>\n",
       "    </tr>\n",
       "    <tr>\n",
       "      <th>1</th>\n",
       "      <td>NaN</td>\n",
       "      <td>NaN</td>\n",
       "      <td>261.0</td>\n",
       "      <td>NaN</td>\n",
       "      <td>NaN</td>\n",
       "      <td>NaN</td>\n",
       "      <td>NaN</td>\n",
       "      <td>17052889</td>\n",
       "      <td>1387261</td>\n",
       "      <td>NaN</td>\n",
       "      <td>...</td>\n",
       "      <td>17052889</td>\n",
       "      <td>0.055619</td>\n",
       "      <td>2017-01-01</td>\n",
       "      <td>NaN</td>\n",
       "      <td>NaN</td>\n",
       "      <td>NaN</td>\n",
       "      <td>NaN</td>\n",
       "      <td>Single Family Residential</td>\n",
       "      <td>NaN</td>\n",
       "      <td>NaN</td>\n",
       "    </tr>\n",
       "    <tr>\n",
       "      <th>2</th>\n",
       "      <td>NaN</td>\n",
       "      <td>NaN</td>\n",
       "      <td>261.0</td>\n",
       "      <td>NaN</td>\n",
       "      <td>NaN</td>\n",
       "      <td>NaN</td>\n",
       "      <td>NaN</td>\n",
       "      <td>14186244</td>\n",
       "      <td>11677</td>\n",
       "      <td>NaN</td>\n",
       "      <td>...</td>\n",
       "      <td>14186244</td>\n",
       "      <td>0.005383</td>\n",
       "      <td>2017-01-01</td>\n",
       "      <td>NaN</td>\n",
       "      <td>NaN</td>\n",
       "      <td>NaN</td>\n",
       "      <td>NaN</td>\n",
       "      <td>Single Family Residential</td>\n",
       "      <td>NaN</td>\n",
       "      <td>NaN</td>\n",
       "    </tr>\n",
       "    <tr>\n",
       "      <th>3</th>\n",
       "      <td>NaN</td>\n",
       "      <td>NaN</td>\n",
       "      <td>261.0</td>\n",
       "      <td>2.0</td>\n",
       "      <td>NaN</td>\n",
       "      <td>NaN</td>\n",
       "      <td>NaN</td>\n",
       "      <td>12177905</td>\n",
       "      <td>2288172</td>\n",
       "      <td>NaN</td>\n",
       "      <td>...</td>\n",
       "      <td>12177905</td>\n",
       "      <td>-0.103410</td>\n",
       "      <td>2017-01-01</td>\n",
       "      <td>NaN</td>\n",
       "      <td>NaN</td>\n",
       "      <td>NaN</td>\n",
       "      <td>Central</td>\n",
       "      <td>Single Family Residential</td>\n",
       "      <td>NaN</td>\n",
       "      <td>NaN</td>\n",
       "    </tr>\n",
       "    <tr>\n",
       "      <th>4</th>\n",
       "      <td>NaN</td>\n",
       "      <td>NaN</td>\n",
       "      <td>261.0</td>\n",
       "      <td>2.0</td>\n",
       "      <td>NaN</td>\n",
       "      <td>NaN</td>\n",
       "      <td>1.0</td>\n",
       "      <td>12095076</td>\n",
       "      <td>781532</td>\n",
       "      <td>NaN</td>\n",
       "      <td>...</td>\n",
       "      <td>12095076</td>\n",
       "      <td>-0.001011</td>\n",
       "      <td>2017-01-01</td>\n",
       "      <td>Central</td>\n",
       "      <td>NaN</td>\n",
       "      <td>NaN</td>\n",
       "      <td>Central</td>\n",
       "      <td>Single Family Residential</td>\n",
       "      <td>NaN</td>\n",
       "      <td>NaN</td>\n",
       "    </tr>\n",
       "  </tbody>\n",
       "</table>\n",
       "<p>5 rows × 71 columns</p>\n",
       "</div>"
      ],
      "text/plain": [
       "   typeconstructiontypeid  storytypeid  propertylandusetypeid  \\\n",
       "0                     NaN          NaN                  261.0   \n",
       "1                     NaN          NaN                  261.0   \n",
       "2                     NaN          NaN                  261.0   \n",
       "3                     NaN          NaN                  261.0   \n",
       "4                     NaN          NaN                  261.0   \n",
       "\n",
       "   heatingorsystemtypeid  buildingclasstypeid  architecturalstyletypeid  \\\n",
       "0                    NaN                  NaN                       NaN   \n",
       "1                    NaN                  NaN                       NaN   \n",
       "2                    NaN                  NaN                       NaN   \n",
       "3                    2.0                  NaN                       NaN   \n",
       "4                    2.0                  NaN                       NaN   \n",
       "\n",
       "   airconditioningtypeid  parcelid       id  basementsqft  ...  parcelid.1  \\\n",
       "0                    NaN  14297519  1727539           NaN  ...    14297519   \n",
       "1                    NaN  17052889  1387261           NaN  ...    17052889   \n",
       "2                    NaN  14186244    11677           NaN  ...    14186244   \n",
       "3                    NaN  12177905  2288172           NaN  ...    12177905   \n",
       "4                    1.0  12095076   781532           NaN  ...    12095076   \n",
       "\n",
       "   logerror  transactiondate  airconditioningdesc  architecturalstyledesc  \\\n",
       "0  0.025595       2017-01-01                  NaN                     NaN   \n",
       "1  0.055619       2017-01-01                  NaN                     NaN   \n",
       "2  0.005383       2017-01-01                  NaN                     NaN   \n",
       "3 -0.103410       2017-01-01                  NaN                     NaN   \n",
       "4 -0.001011       2017-01-01              Central                     NaN   \n",
       "\n",
       "   buildingclassdesc  heatingorsystemdesc        propertylandusedesc  \\\n",
       "0                NaN                  NaN  Single Family Residential   \n",
       "1                NaN                  NaN  Single Family Residential   \n",
       "2                NaN                  NaN  Single Family Residential   \n",
       "3                NaN              Central  Single Family Residential   \n",
       "4                NaN              Central  Single Family Residential   \n",
       "\n",
       "   storydesc  typeconstructiondesc  \n",
       "0        NaN                   NaN  \n",
       "1        NaN                   NaN  \n",
       "2        NaN                   NaN  \n",
       "3        NaN                   NaN  \n",
       "4        NaN                   NaN  \n",
       "\n",
       "[5 rows x 71 columns]"
      ]
     },
     "execution_count": 30,
     "metadata": {},
     "output_type": "execute_result"
    }
   ],
   "source": [
    "df.head()"
   ]
  },
  {
   "cell_type": "code",
   "execution_count": 31,
   "id": "8037e3ae",
   "metadata": {},
   "outputs": [],
   "source": [
    "df=df.fillna(0)"
   ]
  },
  {
   "cell_type": "code",
   "execution_count": 32,
   "id": "20b34b36",
   "metadata": {
    "scrolled": true
   },
   "outputs": [
    {
     "name": "stdout",
     "output_type": "stream",
     "text": [
      "<class 'pandas.core.frame.DataFrame'>\n",
      "Int64Index: 52319 entries, 0 to 52318\n",
      "Data columns (total 71 columns):\n",
      " #   Column                        Non-Null Count  Dtype  \n",
      "---  ------                        --------------  -----  \n",
      " 0   typeconstructiontypeid        52319 non-null  float64\n",
      " 1   storytypeid                   52319 non-null  float64\n",
      " 2   propertylandusetypeid         52319 non-null  float64\n",
      " 3   heatingorsystemtypeid         52319 non-null  float64\n",
      " 4   buildingclasstypeid           52319 non-null  float64\n",
      " 5   architecturalstyletypeid      52319 non-null  float64\n",
      " 6   airconditioningtypeid         52319 non-null  float64\n",
      " 7   parcelid                      52319 non-null  int64  \n",
      " 8   id                            52319 non-null  int64  \n",
      " 9   basementsqft                  52319 non-null  float64\n",
      " 10  bathroomcnt                   52319 non-null  float64\n",
      " 11  bedroomcnt                    52319 non-null  float64\n",
      " 12  buildingqualitytypeid         52319 non-null  float64\n",
      " 13  calculatedbathnbr             52319 non-null  float64\n",
      " 14  decktypeid                    52319 non-null  float64\n",
      " 15  finishedfloor1squarefeet      52319 non-null  float64\n",
      " 16  calculatedfinishedsquarefeet  52319 non-null  float64\n",
      " 17  finishedsquarefeet12          52319 non-null  float64\n",
      " 18  finishedsquarefeet13          52319 non-null  float64\n",
      " 19  finishedsquarefeet15          52319 non-null  float64\n",
      " 20  finishedsquarefeet50          52319 non-null  float64\n",
      " 21  finishedsquarefeet6           52319 non-null  float64\n",
      " 22  fips                          52319 non-null  float64\n",
      " 23  fireplacecnt                  52319 non-null  float64\n",
      " 24  fullbathcnt                   52319 non-null  float64\n",
      " 25  garagecarcnt                  52319 non-null  float64\n",
      " 26  garagetotalsqft               52319 non-null  float64\n",
      " 27  hashottuborspa                52319 non-null  float64\n",
      " 28  latitude                      52319 non-null  float64\n",
      " 29  longitude                     52319 non-null  float64\n",
      " 30  lotsizesquarefeet             52319 non-null  float64\n",
      " 31  poolcnt                       52319 non-null  float64\n",
      " 32  poolsizesum                   52319 non-null  float64\n",
      " 33  pooltypeid10                  52319 non-null  float64\n",
      " 34  pooltypeid2                   52319 non-null  float64\n",
      " 35  pooltypeid7                   52319 non-null  float64\n",
      " 36  propertycountylandusecode     52319 non-null  object \n",
      " 37  propertyzoningdesc            52319 non-null  object \n",
      " 38  rawcensustractandblock        52319 non-null  float64\n",
      " 39  regionidcity                  52319 non-null  float64\n",
      " 40  regionidcounty                52319 non-null  float64\n",
      " 41  regionidneighborhood          52319 non-null  float64\n",
      " 42  regionidzip                   52319 non-null  float64\n",
      " 43  roomcnt                       52319 non-null  float64\n",
      " 44  threequarterbathnbr           52319 non-null  float64\n",
      " 45  unitcnt                       52319 non-null  float64\n",
      " 46  yardbuildingsqft17            52319 non-null  float64\n",
      " 47  yardbuildingsqft26            52319 non-null  float64\n",
      " 48  yearbuilt                     52319 non-null  float64\n",
      " 49  numberofstories               52319 non-null  float64\n",
      " 50  fireplaceflag                 52319 non-null  float64\n",
      " 51  structuretaxvaluedollarcnt    52319 non-null  float64\n",
      " 52  taxvaluedollarcnt             52319 non-null  float64\n",
      " 53  assessmentyear                52319 non-null  float64\n",
      " 54  landtaxvaluedollarcnt         52319 non-null  float64\n",
      " 55  taxamount                     52319 non-null  float64\n",
      " 56  taxdelinquencyflag            52319 non-null  object \n",
      " 57  taxdelinquencyyear            52319 non-null  float64\n",
      " 58  censustractandblock           52319 non-null  float64\n",
      " 59  max_transactiondate           52319 non-null  object \n",
      " 60  id.1                          52319 non-null  int64  \n",
      " 61  parcelid.1                    52319 non-null  int64  \n",
      " 62  logerror                      52319 non-null  float64\n",
      " 63  transactiondate               52319 non-null  object \n",
      " 64  airconditioningdesc           52319 non-null  object \n",
      " 65  architecturalstyledesc        52319 non-null  object \n",
      " 66  buildingclassdesc             52319 non-null  float64\n",
      " 67  heatingorsystemdesc           52319 non-null  object \n",
      " 68  propertylandusedesc           52319 non-null  object \n",
      " 69  storydesc                     52319 non-null  object \n",
      " 70  typeconstructiondesc          52319 non-null  object \n",
      "dtypes: float64(56), int64(4), object(11)\n",
      "memory usage: 28.7+ MB\n"
     ]
    }
   ],
   "source": [
    "df.info()"
   ]
  },
  {
   "cell_type": "markdown",
   "id": "61e8dce4",
   "metadata": {},
   "source": [
    "## Step 1: Select variables you want to cluster"
   ]
  },
  {
   "cell_type": "code",
   "execution_count": 33,
   "id": "022fbb26",
   "metadata": {},
   "outputs": [
    {
     "data": {
      "text/html": [
       "<div>\n",
       "<style scoped>\n",
       "    .dataframe tbody tr th:only-of-type {\n",
       "        vertical-align: middle;\n",
       "    }\n",
       "\n",
       "    .dataframe tbody tr th {\n",
       "        vertical-align: top;\n",
       "    }\n",
       "\n",
       "    .dataframe thead th {\n",
       "        text-align: right;\n",
       "    }\n",
       "</style>\n",
       "<table border=\"1\" class=\"dataframe\">\n",
       "  <thead>\n",
       "    <tr style=\"text-align: right;\">\n",
       "      <th></th>\n",
       "      <th>bedroomcnt</th>\n",
       "      <th>calculatedfinishedsquarefeet</th>\n",
       "    </tr>\n",
       "  </thead>\n",
       "  <tbody>\n",
       "    <tr>\n",
       "      <th>0</th>\n",
       "      <td>4.0</td>\n",
       "      <td>3100.0</td>\n",
       "    </tr>\n",
       "    <tr>\n",
       "      <th>1</th>\n",
       "      <td>2.0</td>\n",
       "      <td>1465.0</td>\n",
       "    </tr>\n",
       "    <tr>\n",
       "      <th>2</th>\n",
       "      <td>3.0</td>\n",
       "      <td>1243.0</td>\n",
       "    </tr>\n",
       "    <tr>\n",
       "      <th>3</th>\n",
       "      <td>4.0</td>\n",
       "      <td>2376.0</td>\n",
       "    </tr>\n",
       "    <tr>\n",
       "      <th>4</th>\n",
       "      <td>4.0</td>\n",
       "      <td>2962.0</td>\n",
       "    </tr>\n",
       "  </tbody>\n",
       "</table>\n",
       "</div>"
      ],
      "text/plain": [
       "   bedroomcnt  calculatedfinishedsquarefeet\n",
       "0         4.0                        3100.0\n",
       "1         2.0                        1465.0\n",
       "2         3.0                        1243.0\n",
       "3         4.0                        2376.0\n",
       "4         4.0                        2962.0"
      ]
     },
     "execution_count": 33,
     "metadata": {},
     "output_type": "execute_result"
    }
   ],
   "source": [
    "x=df[['bedroomcnt','calculatedfinishedsquarefeet']]\n",
    "x.head()"
   ]
  },
  {
   "cell_type": "markdown",
   "id": "bac0956d",
   "metadata": {},
   "source": [
    "## Step 2: Convert features into array and float dtype"
   ]
  },
  {
   "cell_type": "code",
   "execution_count": 34,
   "id": "7ff10dce",
   "metadata": {},
   "outputs": [],
   "source": [
    "#converting features into floats and arrays\n",
    "np_array = x.values.astype('float32',copy=False)"
   ]
  },
  {
   "cell_type": "markdown",
   "id": "89a27990",
   "metadata": {},
   "source": [
    "## Step 3: MinMax Scaler"
   ]
  },
  {
   "cell_type": "code",
   "execution_count": 35,
   "id": "239a5475",
   "metadata": {},
   "outputs": [
    {
     "data": {
      "text/plain": [
       "array([[0.2857143 , 0.14136532],\n",
       "       [0.14285715, 0.06680651],\n",
       "       [0.21428573, 0.05668293],\n",
       "       ...,\n",
       "       [0.2857143 , 0.07350996],\n",
       "       [0.21428573, 0.04706097],\n",
       "       [0.21428573, 0.08035022]], dtype=float32)"
      ]
     },
     "execution_count": 35,
     "metadata": {},
     "output_type": "execute_result"
    }
   ],
   "source": [
    "# MAKE the scaler\n",
    "mms=MinMaxScaler()\n",
    "# FIT/transform the scaler\n",
    "x_scaled=mms.fit_transform(np_array)\n",
    "\n",
    "x_scaled"
   ]
  },
  {
   "cell_type": "code",
   "execution_count": 36,
   "id": "4b0811f0",
   "metadata": {},
   "outputs": [],
   "source": [
    "# adding scaled data into the original data frame\n",
    "scaled_columns = [\"Scaled_\"+ column for column in x.columns]"
   ]
  },
  {
   "cell_type": "code",
   "execution_count": 37,
   "id": "7dce36ac",
   "metadata": {},
   "outputs": [],
   "source": [
    "# creating a copy of the original data frame\n",
    "original_df = df.copy()"
   ]
  },
  {
   "cell_type": "code",
   "execution_count": 38,
   "id": "286aa7c9",
   "metadata": {},
   "outputs": [],
   "source": [
    "#creating dataframe of scaled data\n",
    "scaled_df = pd.DataFrame(x_scaled,columns=scaled_columns)"
   ]
  },
  {
   "cell_type": "code",
   "execution_count": 39,
   "id": "e716d3fc",
   "metadata": {},
   "outputs": [],
   "source": [
    "#merge scale data and dropping Key_0\n",
    "df = df.merge(scaled_df,on=df.index)\n",
    "df = df.drop(columns=['key_0'])"
   ]
  },
  {
   "cell_type": "code",
   "execution_count": 40,
   "id": "ac5e5269",
   "metadata": {
    "scrolled": true
   },
   "outputs": [
    {
     "data": {
      "text/html": [
       "<div>\n",
       "<style scoped>\n",
       "    .dataframe tbody tr th:only-of-type {\n",
       "        vertical-align: middle;\n",
       "    }\n",
       "\n",
       "    .dataframe tbody tr th {\n",
       "        vertical-align: top;\n",
       "    }\n",
       "\n",
       "    .dataframe thead th {\n",
       "        text-align: right;\n",
       "    }\n",
       "</style>\n",
       "<table border=\"1\" class=\"dataframe\">\n",
       "  <thead>\n",
       "    <tr style=\"text-align: right;\">\n",
       "      <th></th>\n",
       "      <th>typeconstructiontypeid</th>\n",
       "      <th>storytypeid</th>\n",
       "      <th>propertylandusetypeid</th>\n",
       "      <th>heatingorsystemtypeid</th>\n",
       "      <th>buildingclasstypeid</th>\n",
       "      <th>architecturalstyletypeid</th>\n",
       "      <th>airconditioningtypeid</th>\n",
       "      <th>parcelid</th>\n",
       "      <th>id</th>\n",
       "      <th>basementsqft</th>\n",
       "      <th>...</th>\n",
       "      <th>transactiondate</th>\n",
       "      <th>airconditioningdesc</th>\n",
       "      <th>architecturalstyledesc</th>\n",
       "      <th>buildingclassdesc</th>\n",
       "      <th>heatingorsystemdesc</th>\n",
       "      <th>propertylandusedesc</th>\n",
       "      <th>storydesc</th>\n",
       "      <th>typeconstructiondesc</th>\n",
       "      <th>Scaled_bedroomcnt</th>\n",
       "      <th>Scaled_calculatedfinishedsquarefeet</th>\n",
       "    </tr>\n",
       "  </thead>\n",
       "  <tbody>\n",
       "    <tr>\n",
       "      <th>0</th>\n",
       "      <td>0.0</td>\n",
       "      <td>0.0</td>\n",
       "      <td>261.0</td>\n",
       "      <td>0.0</td>\n",
       "      <td>0.0</td>\n",
       "      <td>0.0</td>\n",
       "      <td>0.0</td>\n",
       "      <td>14297519</td>\n",
       "      <td>1727539</td>\n",
       "      <td>0.0</td>\n",
       "      <td>...</td>\n",
       "      <td>2017-01-01</td>\n",
       "      <td>0</td>\n",
       "      <td>0</td>\n",
       "      <td>0.0</td>\n",
       "      <td>0</td>\n",
       "      <td>Single Family Residential</td>\n",
       "      <td>0</td>\n",
       "      <td>0</td>\n",
       "      <td>0.285714</td>\n",
       "      <td>0.141365</td>\n",
       "    </tr>\n",
       "    <tr>\n",
       "      <th>1</th>\n",
       "      <td>0.0</td>\n",
       "      <td>0.0</td>\n",
       "      <td>261.0</td>\n",
       "      <td>0.0</td>\n",
       "      <td>0.0</td>\n",
       "      <td>0.0</td>\n",
       "      <td>0.0</td>\n",
       "      <td>17052889</td>\n",
       "      <td>1387261</td>\n",
       "      <td>0.0</td>\n",
       "      <td>...</td>\n",
       "      <td>2017-01-01</td>\n",
       "      <td>0</td>\n",
       "      <td>0</td>\n",
       "      <td>0.0</td>\n",
       "      <td>0</td>\n",
       "      <td>Single Family Residential</td>\n",
       "      <td>0</td>\n",
       "      <td>0</td>\n",
       "      <td>0.142857</td>\n",
       "      <td>0.066807</td>\n",
       "    </tr>\n",
       "    <tr>\n",
       "      <th>2</th>\n",
       "      <td>0.0</td>\n",
       "      <td>0.0</td>\n",
       "      <td>261.0</td>\n",
       "      <td>0.0</td>\n",
       "      <td>0.0</td>\n",
       "      <td>0.0</td>\n",
       "      <td>0.0</td>\n",
       "      <td>14186244</td>\n",
       "      <td>11677</td>\n",
       "      <td>0.0</td>\n",
       "      <td>...</td>\n",
       "      <td>2017-01-01</td>\n",
       "      <td>0</td>\n",
       "      <td>0</td>\n",
       "      <td>0.0</td>\n",
       "      <td>0</td>\n",
       "      <td>Single Family Residential</td>\n",
       "      <td>0</td>\n",
       "      <td>0</td>\n",
       "      <td>0.214286</td>\n",
       "      <td>0.056683</td>\n",
       "    </tr>\n",
       "    <tr>\n",
       "      <th>3</th>\n",
       "      <td>0.0</td>\n",
       "      <td>0.0</td>\n",
       "      <td>261.0</td>\n",
       "      <td>2.0</td>\n",
       "      <td>0.0</td>\n",
       "      <td>0.0</td>\n",
       "      <td>0.0</td>\n",
       "      <td>12177905</td>\n",
       "      <td>2288172</td>\n",
       "      <td>0.0</td>\n",
       "      <td>...</td>\n",
       "      <td>2017-01-01</td>\n",
       "      <td>0</td>\n",
       "      <td>0</td>\n",
       "      <td>0.0</td>\n",
       "      <td>Central</td>\n",
       "      <td>Single Family Residential</td>\n",
       "      <td>0</td>\n",
       "      <td>0</td>\n",
       "      <td>0.285714</td>\n",
       "      <td>0.108350</td>\n",
       "    </tr>\n",
       "    <tr>\n",
       "      <th>4</th>\n",
       "      <td>0.0</td>\n",
       "      <td>0.0</td>\n",
       "      <td>261.0</td>\n",
       "      <td>2.0</td>\n",
       "      <td>0.0</td>\n",
       "      <td>0.0</td>\n",
       "      <td>1.0</td>\n",
       "      <td>12095076</td>\n",
       "      <td>781532</td>\n",
       "      <td>0.0</td>\n",
       "      <td>...</td>\n",
       "      <td>2017-01-01</td>\n",
       "      <td>Central</td>\n",
       "      <td>0</td>\n",
       "      <td>0.0</td>\n",
       "      <td>Central</td>\n",
       "      <td>Single Family Residential</td>\n",
       "      <td>0</td>\n",
       "      <td>0</td>\n",
       "      <td>0.285714</td>\n",
       "      <td>0.135072</td>\n",
       "    </tr>\n",
       "  </tbody>\n",
       "</table>\n",
       "<p>5 rows × 73 columns</p>\n",
       "</div>"
      ],
      "text/plain": [
       "   typeconstructiontypeid  storytypeid  propertylandusetypeid  \\\n",
       "0                     0.0          0.0                  261.0   \n",
       "1                     0.0          0.0                  261.0   \n",
       "2                     0.0          0.0                  261.0   \n",
       "3                     0.0          0.0                  261.0   \n",
       "4                     0.0          0.0                  261.0   \n",
       "\n",
       "   heatingorsystemtypeid  buildingclasstypeid  architecturalstyletypeid  \\\n",
       "0                    0.0                  0.0                       0.0   \n",
       "1                    0.0                  0.0                       0.0   \n",
       "2                    0.0                  0.0                       0.0   \n",
       "3                    2.0                  0.0                       0.0   \n",
       "4                    2.0                  0.0                       0.0   \n",
       "\n",
       "   airconditioningtypeid  parcelid       id  basementsqft  ...  \\\n",
       "0                    0.0  14297519  1727539           0.0  ...   \n",
       "1                    0.0  17052889  1387261           0.0  ...   \n",
       "2                    0.0  14186244    11677           0.0  ...   \n",
       "3                    0.0  12177905  2288172           0.0  ...   \n",
       "4                    1.0  12095076   781532           0.0  ...   \n",
       "\n",
       "   transactiondate  airconditioningdesc  architecturalstyledesc  \\\n",
       "0       2017-01-01                    0                       0   \n",
       "1       2017-01-01                    0                       0   \n",
       "2       2017-01-01                    0                       0   \n",
       "3       2017-01-01                    0                       0   \n",
       "4       2017-01-01              Central                       0   \n",
       "\n",
       "   buildingclassdesc  heatingorsystemdesc        propertylandusedesc  \\\n",
       "0                0.0                    0  Single Family Residential   \n",
       "1                0.0                    0  Single Family Residential   \n",
       "2                0.0                    0  Single Family Residential   \n",
       "3                0.0              Central  Single Family Residential   \n",
       "4                0.0              Central  Single Family Residential   \n",
       "\n",
       "   storydesc  typeconstructiondesc  Scaled_bedroomcnt  \\\n",
       "0          0                     0           0.285714   \n",
       "1          0                     0           0.142857   \n",
       "2          0                     0           0.214286   \n",
       "3          0                     0           0.285714   \n",
       "4          0                     0           0.285714   \n",
       "\n",
       "   Scaled_calculatedfinishedsquarefeet  \n",
       "0                             0.141365  \n",
       "1                             0.066807  \n",
       "2                             0.056683  \n",
       "3                             0.108350  \n",
       "4                             0.135072  \n",
       "\n",
       "[5 rows x 73 columns]"
      ]
     },
     "execution_count": 40,
     "metadata": {},
     "output_type": "execute_result"
    }
   ],
   "source": [
    "df.head()"
   ]
  },
  {
   "cell_type": "code",
   "execution_count": 57,
   "id": "be02172b",
   "metadata": {},
   "outputs": [],
   "source": [
    "df=df[:5000]"
   ]
  },
  {
   "cell_type": "code",
   "execution_count": 58,
   "id": "bd4f0a5f",
   "metadata": {},
   "outputs": [],
   "source": [
    "x_scaled=x_scaled[:5000]"
   ]
  },
  {
   "cell_type": "markdown",
   "id": "7d7efcea",
   "metadata": {},
   "source": [
    "## Step 4: DBSCAN"
   ]
  },
  {
   "cell_type": "code",
   "execution_count": 59,
   "id": "cf227017",
   "metadata": {},
   "outputs": [
    {
     "data": {
      "text/plain": [
       "DBSCAN(eps=1, min_samples=20)"
      ]
     },
     "execution_count": 59,
     "metadata": {},
     "output_type": "execute_result"
    }
   ],
   "source": [
    "# Make the object\n",
    "dbsc = DBSCAN(eps=1,min_samples=20)\n",
    "\n",
    "# Fit the object\n",
    "dbsc.fit(x_scaled)"
   ]
  },
  {
   "cell_type": "markdown",
   "id": "1092e1d4",
   "metadata": {},
   "source": [
    "## Step 5: Add labels back to original dataframe"
   ]
  },
  {
   "cell_type": "code",
   "execution_count": 60,
   "id": "1d82d5ac",
   "metadata": {},
   "outputs": [],
   "source": [
    "# Assign the cluster labels\n",
    "df['clusters_labels'] = dbsc.labels_"
   ]
  },
  {
   "cell_type": "code",
   "execution_count": 63,
   "id": "cab78b4a",
   "metadata": {},
   "outputs": [
    {
     "data": {
      "text/plain": [
       "array([0, 0, 0, 0, 0, 0, 0, 0, 0, 0, 0, 0, 0, 0, 0, 0, 0, 0, 0, 0, 0, 0,\n",
       "       0, 0, 0, 0, 0, 0, 0, 0, 0, 0, 0, 0, 0, 0, 0, 0, 0, 0, 0, 0, 0, 0,\n",
       "       0, 0, 0, 0, 0, 0, 0, 0, 0, 0, 0, 0, 0, 0, 0, 0, 0, 0, 0, 0, 0, 0,\n",
       "       0, 0, 0, 0, 0, 0, 0, 0, 0, 0, 0, 0, 0, 0, 0, 0, 0, 0, 0, 0, 0, 0,\n",
       "       0, 0, 0, 0, 0, 0, 0, 0, 0, 0, 0, 0])"
      ]
     },
     "execution_count": 63,
     "metadata": {},
     "output_type": "execute_result"
    }
   ],
   "source": [
    "dbsc.labels_"
   ]
  },
  {
   "cell_type": "markdown",
   "id": "fed16121",
   "metadata": {},
   "source": [
    "## Step 6: Explore and Viz Clusters"
   ]
  },
  {
   "cell_type": "code",
   "execution_count": 61,
   "id": "ed42adab",
   "metadata": {},
   "outputs": [
    {
     "data": {
      "text/plain": [
       "0    100\n",
       "Name: clusters_labels, dtype: int64"
      ]
     },
     "execution_count": 61,
     "metadata": {},
     "output_type": "execute_result"
    }
   ],
   "source": [
    "df.clusters_labels.value_counts()"
   ]
  },
  {
   "cell_type": "code",
   "execution_count": 62,
   "id": "3c8d7035",
   "metadata": {},
   "outputs": [
    {
     "data": {
      "image/png": "[encoded data removed]",
      "text/plain": [
       "<Figure size 640x480 with 1 Axes>"
      ]
     },
     "metadata": {},
     "output_type": "display_data"
    }
   ],
   "source": [
    "#A for loop to visualize de different clsuters combination and anomalies utilizing only 2 features at a time\n",
    "for combination in itertools.combinations(x.columns,2):\n",
    "    sns.scatterplot(df[combination[0]],df[combination[1]],hue=df.clusters_labels)\n",
    "    plt.title(f\"{combination[0]} by {combination[1]} Clusters vs Outliers\")\n",
    "    plt.show()"
   ]
  },
  {
   "cell_type": "code",
   "execution_count": null,
   "id": "50467746",
   "metadata": {},
   "outputs": [],
   "source": []
  }
 ],
 "metadata": {
  "kernelspec": {
   "display_name": "Python 3 (ipykernel)",
   "language": "python",
   "name": "python3"
  },
  "language_info": {
   "codemirror_mode": {
    "name": "ipython",
    "version": 3
   },
   "file_extension": ".py",
   "mimetype": "text/x-python",
   "name": "python",
   "nbconvert_exporter": "python",
   "pygments_lexer": "ipython3",
   "version": "3.9.13"
  }
 },
 "nbformat": 4,
 "nbformat_minor": 5
}
